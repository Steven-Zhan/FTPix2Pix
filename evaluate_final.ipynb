{
 "cells": [
  {
   "cell_type": "code",
   "execution_count": 1,
   "id": "19acd35a",
   "metadata": {},
   "outputs": [],
   "source": [
    "# ! pip install scikit-image\n",
    "import torch\n",
    "import numpy as np\n",
    "from skimage.metrics import structural_similarity as ssim\n",
    "from skimage.metrics import peak_signal_noise_ratio as psnr\n",
    "\n",
    "def evaluate_batch_ssim_psnr(tensor1, tensor2):\n",
    "    \"\"\"\n",
    "    Compute SSIM and PSNR between two batches of RGB images (PyTorch tensors).\n",
    "\n",
    "    Args:\n",
    "        tensor1: torch.Tensor, shape (B, 3, H, W), values in [0, 1]\n",
    "        tensor2: torch.Tensor, shape (B, 3, H, W), values in [0, 1]\n",
    "\n",
    "    Returns:\n",
    "        A tuple: (metrics_list, mean_ssim, mean_psnr)\n",
    "            - metrics_list: list of dicts, each with 'ssim' and 'psnr'\n",
    "            - mean_ssim: float\n",
    "            - mean_psnr: float\n",
    "    \"\"\"\n",
    "    assert tensor1.shape == tensor2.shape, \"Both tensors must have the same shape\"\n",
    "    assert tensor1.ndim == 4 and tensor1.shape[1] == 3, \"Tensors must have shape (B, 3, H, W)\"\n",
    "\n",
    "    results = []\n",
    "    B = tensor1.shape[0]\n",
    "\n",
    "    for i in range(B):\n",
    "        img1 = tensor1[i].detach().cpu().numpy().transpose(1, 2, 0)\n",
    "        img2 = tensor2[i].detach().cpu().numpy().transpose(1, 2, 0)\n",
    "\n",
    "        ssim_score = ssim(img1, img2, channel_axis=-1, data_range=1.0)\n",
    "        psnr_score = psnr(img1, img2, data_range=1.0)\n",
    "\n",
    "        results.append({'ssim': ssim_score, 'psnr': psnr_score})\n",
    "\n",
    "    mean_ssim = np.mean([r['ssim'] for r in results])\n",
    "    mean_psnr = np.mean([r['psnr'] for r in results])\n",
    "\n",
    "    return results, mean_ssim, mean_psnr"
   ]
  },
  {
   "cell_type": "code",
   "execution_count": 2,
   "id": "aab01e1f",
   "metadata": {},
   "outputs": [],
   "source": [
    "from PIL import Image\n",
    "import torchvision.transforms as transforms\n",
    "import torch"
   ]
  },
  {
   "cell_type": "markdown",
   "id": "7c31004b",
   "metadata": {},
   "source": [
    "**SSIM**\n",
    "- 完全一样的图片 → SSIM = 1\n",
    "- 图片有轻微噪声 → SSIM ≈ 0.95+\n",
    "- 图片模糊或者有强烈失真 → SSIM 可能掉到 0.5甚至更低"
   ]
  },
  {
   "cell_type": "markdown",
   "id": "f6f4a6cc",
   "metadata": {},
   "source": [
    "**PSNR**\n",
    "- 完全一样的图片 → PSNR趋于无穷大（理论上）\n",
    "- 正常的高质量恢复图 → PSNR在30-40 dB\n",
    "- 差劲的重建 → PSNR可能只有20 dB左右"
   ]
  },
  {
   "cell_type": "markdown",
   "id": "f34fc2d3",
   "metadata": {},
   "source": [
    "## fine-tune"
   ]
  },
  {
   "cell_type": "code",
   "execution_count": null,
   "id": "5744b8f0",
   "metadata": {},
   "outputs": [
    {
     "name": "stdout",
     "output_type": "stream",
     "text": [
      "Mean SSIM: 0.8629219\n",
      "Mean PSNR: 21.20329825620129\n"
     ]
    }
   ],
   "source": [
    "# 定义文件夹路径\n",
    "actual_dir = \"C:/Users/mxx/Desktop/pix2pix_inference/fine_tune\"\n",
    "predicted_dir = \"C:/Users/mxx/Desktop/pix2pix_inference/fine_tune\"\n",
    "\n",
    "# 定义transform\n",
    "transform = transforms.Compose([\n",
    "    transforms.ToTensor(),  # 将图片转为 [0,1] 范围的 Tensor\n",
    "])\n",
    "\n",
    "# 存放所有图片的list\n",
    "actual_images = []\n",
    "predicted_images = []\n",
    "\n",
    "# 遍历文件夹中的文件，寻找成对的 actual 和 predicted 图片\n",
    "for filename in os.listdir(actual_dir):\n",
    "    if filename.startswith(\"sample_\") and filename.endswith(\"_actual.png\"):\n",
    "        # 提取编号\n",
    "        idx = filename.split(\"_\")[1]\n",
    "        actual_path = os.path.join(actual_dir, filename)\n",
    "        predicted_filename = f\"sample_{idx}_predicted.png\"\n",
    "        predicted_path = os.path.join(predicted_dir, predicted_filename)\n",
    "\n",
    "        # 确保 predicted 图片存在\n",
    "        if os.path.exists(predicted_path):\n",
    "            img_actual = transform(Image.open(actual_path).convert('RGB'))\n",
    "            img_pred = transform(Image.open(predicted_path).convert('RGB'))\n",
    "            actual_images.append(img_actual)\n",
    "            predicted_images.append(img_pred)\n",
    "\n",
    "# 如果读取到了有效图片对\n",
    "if actual_images and predicted_images:\n",
    "    # 合并成 batch（shape: B, 3, H, W）\n",
    "    actual_batch = torch.stack(actual_images, dim=0)\n",
    "    predicted_batch = torch.stack(predicted_images, dim=0)\n",
    "\n",
    "    # 调用评估函数\n",
    "    metrics_list, mean_ssim, mean_psnr = evaluate_batch_ssim_psnr(actual_batch, predicted_batch)\n",
    "\n",
    "    # 打印结果\n",
    "    print(\"Mean SSIM:\", mean_ssim)\n",
    "    print(\"Mean PSNR:\", mean_psnr)\n",
    "else:\n",
    "    print(\"No valid image pairs found.\")"
   ]
  },
  {
   "cell_type": "markdown",
   "id": "6e034cd6",
   "metadata": {},
   "source": [
    "## baseline"
   ]
  },
  {
   "cell_type": "code",
   "execution_count": null,
   "id": "aa799fc8",
   "metadata": {},
   "outputs": [
    {
     "name": "stdout",
     "output_type": "stream",
     "text": [
      "Mean SSIM: 0.6161285\n",
      "Mean PSNR: 11.739744848814643\n"
     ]
    }
   ],
   "source": [
    "# 定义文件夹路径\n",
    "actual_dir = \"C:/Users/mxx/Desktop/pix2pix_inference/baseline\"\n",
    "predicted_dir = \"C:/Users/mxx/Desktop/pix2pix_inference/baseline\"\n",
    "\n",
    "# 定义transform\n",
    "transform = transforms.Compose([\n",
    "    transforms.ToTensor(),  # 将图片转为 [0,1] 范围的 Tensor\n",
    "])\n",
    "\n",
    "# 存放所有图片的list\n",
    "actual_images = []\n",
    "predicted_images = []\n",
    "\n",
    "# 遍历文件夹中的文件，寻找成对的 actual 和 predicted 图片\n",
    "for filename in os.listdir(actual_dir):\n",
    "    if filename.startswith(\"sample_\") and filename.endswith(\"_actual.png\"):\n",
    "        # 提取编号\n",
    "        idx = filename.split(\"_\")[1]\n",
    "        actual_path = os.path.join(actual_dir, filename)\n",
    "        predicted_filename = f\"sample_{idx}_predicted.png\"\n",
    "        predicted_path = os.path.join(predicted_dir, predicted_filename)\n",
    "\n",
    "        # 确保 predicted 图片存在\n",
    "        if os.path.exists(predicted_path):\n",
    "            img_actual = transform(Image.open(actual_path).convert('RGB'))\n",
    "            img_pred = transform(Image.open(predicted_path).convert('RGB'))\n",
    "            actual_images.append(img_actual)\n",
    "            predicted_images.append(img_pred)\n",
    "\n",
    "# 如果读取到了有效图片对\n",
    "if actual_images and predicted_images:\n",
    "    # 合并成 batch（shape: B, 3, H, W）\n",
    "    actual_batch = torch.stack(actual_images, dim=0)\n",
    "    predicted_batch = torch.stack(predicted_images, dim=0)\n",
    "\n",
    "    # 调用评估函数\n",
    "    metrics_list, mean_ssim, mean_psnr = evaluate_batch_ssim_psnr(actual_batch, predicted_batch)\n",
    "\n",
    "    # 打印结果\n",
    "    print(\"Mean SSIM:\", mean_ssim)\n",
    "    print(\"Mean PSNR:\", mean_psnr)\n",
    "else:\n",
    "    print(\"No valid image pairs found.\")"
   ]
  }
 ],
 "metadata": {
  "kernelspec": {
   "display_name": "pytorch-dlhw",
   "language": "python",
   "name": "python3"
  },
  "language_info": {
   "codemirror_mode": {
    "name": "ipython",
    "version": 3
   },
   "file_extension": ".py",
   "mimetype": "text/x-python",
   "name": "python",
   "nbconvert_exporter": "python",
   "pygments_lexer": "ipython3",
   "version": "3.11.11"
  }
 },
 "nbformat": 4,
 "nbformat_minor": 5
}
